{
 "cells": [
  {
   "cell_type": "code",
   "execution_count": 85,
   "metadata": {
    "deletable": false,
    "editable": false,
    "nbgrader": {
     "cell_type": "code",
     "checksum": "3c0e6f80c9a8d85d80baddc8df3890a0",
     "grade": false,
     "grade_id": "cell-7531378247537850",
     "locked": true,
     "schema_version": 3,
     "solution": false
    }
   },
   "outputs": [],
   "source": [
    "from __future__ import print_function\n",
    "%matplotlib inline\n",
    "import numpy\n",
    "import matplotlib.pyplot as plt\n",
    "\n",
    "# import the factorial function from scipy\n",
    "from scipy.special import factorial"
   ]
  },
  {
   "cell_type": "markdown",
   "metadata": {
    "deletable": false,
    "editable": false,
    "nbgrader": {
     "cell_type": "markdown",
     "checksum": "57fe3d1a770d32fc71d10c52d47d5765",
     "grade": false,
     "grade_id": "cell-1055125360070174",
     "locked": true,
     "schema_version": 3,
     "solution": false
    }
   },
   "source": [
    "# HW 1:  Forms of Error\n",
    "\n"
   ]
  },
  {
   "cell_type": "markdown",
   "metadata": {
    "deletable": false,
    "editable": false,
    "nbgrader": {
     "cell_type": "markdown",
     "checksum": "763bdcd61a173c57e8d82dcd9519ee2c",
     "grade": false,
     "grade_id": "cell-9681214437904696",
     "locked": true,
     "schema_version": 3,
     "solution": false
    }
   },
   "source": [
    "## Question 1:  definition of errors\n",
    "\n",
    "**(a)**  [4 pts] Write a short python program to calculate and return, the absolute error, relative error and degree of decimal precision (as defined in class) given an object `f` and its approximation `F`.  Note, both `f` and `F` can be numpy arrays."
   ]
  },
  {
   "cell_type": "code",
   "execution_count": 88,
   "metadata": {
    "deletable": false,
    "nbgrader": {
     "cell_type": "code",
     "checksum": "7c9bcb87e713e8ee4fb90ec822ed4d9f",
     "grade": false,
     "grade_id": "cell-a6ede65cf8ed685f",
     "locked": false,
     "schema_version": 3,
     "solution": true,
     "task": false
    }
   },
   "outputs": [],
   "source": [
    "def errors(f,F):\n",
    "    \"\"\" calculate various measures of error of an object f and its approximation F\n",
    "    \n",
    "    Parameters\n",
    "    ----------\n",
    "    f:  numpy.array (or float)\n",
    "        array of true values\n",
    "        \n",
    "    F: numpy.array\n",
    "        array of approximate values\n",
    "        \n",
    "    Returns\n",
    "    -------\n",
    "    \n",
    "    e: array of absolute errors\n",
    "    r: array of relative errors\n",
    "    p: integer array of precisions\n",
    "    \"\"\"\n",
    "    \n",
    "    # YOUR CODE HERE\n",
    "\n",
    "    f = numpy.array(f)\n",
    "    F = numpy.array(F)\n",
    "    e = numpy.abs(f-F)\n",
    "    r = e/numpy.abs(f)\n",
    "    \n",
    "    p = (-numpy.log10(r / 5.0)).astype(int)\n",
    "\n",
    "    return e, r, p\n",
    "\n"
   ]
  },
  {
   "cell_type": "code",
   "execution_count": 89,
   "metadata": {
    "deletable": false,
    "editable": false,
    "nbgrader": {
     "cell_type": "code",
     "checksum": "f4295c880e6563c035f2e1176010b834",
     "grade": true,
     "grade_id": "cell-da2659b413c73ca7",
     "locked": true,
     "points": 4,
     "schema_version": 3,
     "solution": false,
     "task": false
    }
   },
   "outputs": [
    {
     "name": "stdout",
     "output_type": "stream",
     "text": [
      "passed scalar test\n",
      "passed array test\n"
     ]
    }
   ],
   "source": [
    "# Testing Cell (do not copy)\n",
    "\n",
    "# Test Simple Scalars\n",
    "e,r,p = errors(numpy.exp(1),2.72)\n",
    "answer = [0.0017181715409551046, 0.0006320799863232398, 3]\n",
    "numpy.testing.assert_allclose([e,r,p], answer)\n",
    "print('passed scalar test')\n",
    "\n",
    "# Test with array input\n",
    "x = [1., 2., 3.]\n",
    "f = numpy.exp(x)\n",
    "F = [ 2.718,  7.389,  20.085]\n",
    "e,r,p = errors(f,F)\n",
    "numpy.testing.assert_allclose(e,[2.81828459e-04, 5.60989307e-05, 5.36923188e-04])\n",
    "numpy.testing.assert_allclose(r,[1.03678896e-04, 7.59216467e-06, 2.67318315e-05])\n",
    "numpy.testing.assert_allclose(p,[4, 5, 5])\n",
    "print('passed array test')"
   ]
  },
  {
   "cell_type": "markdown",
   "metadata": {
    "deletable": false,
    "editable": false,
    "nbgrader": {
     "cell_type": "markdown",
     "checksum": "39ee29a6b36ec47d40b72b71b941b0f2",
     "grade": false,
     "grade_id": "cell-bef4e3baf992ed93",
     "locked": true,
     "schema_version": 3,
     "solution": false,
     "task": false
    }
   },
   "source": [
    "**(b)** [2 pts]  Use your routine to compare the absolute error, relative error and degree of precision for these two rational approximations of $\\pi$\n",
    "\n",
    "* $f = \\pi$ and $F = 22 / 7$\n",
    "* $f = \\pi$ and $F = 355 / 113$\n",
    "\n",
    "Which is more accurate?"
   ]
  },
  {
   "cell_type": "code",
   "execution_count": 91,
   "metadata": {},
   "outputs": [
    {
     "data": {
      "text/plain": [
       "(array([1.26448927e-03, 2.66764189e-07]),\n",
       " array([4.02499435e-04, 8.49136788e-08]),\n",
       " array([4, 7]))"
      ]
     },
     "execution_count": 91,
     "metadata": {},
     "output_type": "execute_result"
    }
   ],
   "source": [
    "# you can put some working code here to generate your answers, but put your answers in the cell below\n",
    "x1 = [numpy.pi,numpy.pi]\n",
    "y1 = [22/7,355/113]\n",
    "errors(x1,y1)"
   ]
  },
  {
   "cell_type": "markdown",
   "metadata": {
    "deletable": false,
    "nbgrader": {
     "cell_type": "markdown",
     "checksum": "21b09b84adbced5a47c2142e0d7a29cd",
     "grade": true,
     "grade_id": "cell-4300360216304258",
     "locked": false,
     "points": 2,
     "schema_version": 3,
     "solution": true
    }
   },
   "source": [
    "YOUR ANSWER HERE : Since the absolute error and relative error for $355 / 113$ are significantly smaller than those for $22 / 7$, we conclude that $355 / 113$ is the more accurate approximation of $\\pi$.\r\n"
   ]
  },
  {
   "cell_type": "markdown",
   "metadata": {
    "deletable": false,
    "editable": false,
    "nbgrader": {
     "cell_type": "markdown",
     "checksum": "b5a1a21715793f4a9cd1d22da3c6fbd5",
     "grade": false,
     "grade_id": "cell-300ca517618db367",
     "locked": true,
     "schema_version": 3,
     "solution": false,
     "task": false
    }
   },
   "source": [
    "**(c)** [6 pts] Write a python routine to find the most accurate $d$ digit rational approximation to $\\pi$. i.e. find\n",
    "two $d$ digit positive integers $m,n$ such that \n",
    "\n",
    "$$ F = \\frac{m}{n} \\sim \\pi$$\n",
    "\n",
    "(hint:  $355/113$ is the best 3-digit rational approximation)"
   ]
  },
  {
   "cell_type": "code",
   "execution_count": 94,
   "metadata": {
    "deletable": false,
    "nbgrader": {
     "cell_type": "code",
     "checksum": "2fad6f779f0e38180756be9962ecfdda",
     "grade": false,
     "grade_id": "cell-4b8290252c936eec",
     "locked": false,
     "schema_version": 3,
     "solution": true,
     "task": false
    }
   },
   "outputs": [],
   "source": [
    "import math\n",
    "def rational_pi(d):\n",
    "    ''' Find the best rational approximation to pi ~ m/n where m and n are both d-digit positive integers\n",
    "    \n",
    "    Parameters\n",
    "    ----------\n",
    "    \n",
    "    d: int\n",
    "        number of digits in both m and n\n",
    "    \n",
    "    Returns\n",
    "    -------\n",
    "    m,n: int\n",
    "        numerator and denominator of best d digit rational approximation to pi ~ m/n\n",
    "        \n",
    "    '''\n",
    "    # YOUR CODE HERE\n",
    "\n",
    "    lower_bound = 10**(d-1)\n",
    "    upper_bound = 10**d - 1\n",
    "    pi_value = math.pi\n",
    "    \n",
    "    best_m, best_n = None, None\n",
    "    min_error = float('inf')\n",
    "    \n",
    "    for n in range(lower_bound, upper_bound + 1):\n",
    "        m = round(pi_value * n)\n",
    "        \n",
    "        if lower_bound <= m <= upper_bound:\n",
    "            error = abs(pi_value - m / n)\n",
    "            \n",
    "            if error < min_error:\n",
    "                min_error = error\n",
    "                best_m, best_n = m, n\n",
    "    \n",
    "    return best_m, best_n    \n"
   ]
  },
  {
   "cell_type": "code",
   "execution_count": 95,
   "metadata": {
    "deletable": false,
    "editable": false,
    "nbgrader": {
     "cell_type": "code",
     "checksum": "29119ccc9d740a4e6317ed3dc57f6657",
     "grade": true,
     "grade_id": "cell-6568ef410973a577",
     "locked": true,
     "points": 6,
     "schema_version": 3,
     "solution": false,
     "task": false
    }
   },
   "outputs": [
    {
     "name": "stdout",
     "output_type": "stream",
     "text": [
      "d=1: 3/1 = 3.0:\t e = 0.14159265358979312,\t, r = 0.04507034144862795,\t p= 2\n",
      "d=2: 44/14 = 3.142857142857143:\t e = 0.0012644892673496777,\t, r = 0.0004024994347707008,\t p= 4\n",
      "d=3: 355/113 = 3.1415929203539825:\t e = 2.667641894049666e-07,\t, r = 8.49136787674061e-08,\t p= 7\n",
      "d=4: 3195/1017 = 3.1415929203539825:\t e = 2.667641894049666e-07,\t, r = 8.49136787674061e-08,\t p= 7\n",
      "d=5: 99733/31746 = 3.1415926415926414:\t e = 1.1997151716514054e-08,\t, r = 3.818811997413258e-09,\t p= 9\n",
      "\n",
      "success!\n"
     ]
    }
   ],
   "source": [
    "# Testing Cell (do not copy)\n",
    "\n",
    "# print out best rational approximations and their errors  for d =1-5\n",
    "for d in range(1,6):\n",
    "    m,n = rational_pi(d)\n",
    "    e,r,p = errors(numpy.pi,m/n)\n",
    "    print('d={}: {}/{} = {}:\\t e = {},\\t, r = {},\\t p= {}'.format(d,m,n,m/n,e,r,p))\n",
    "    \n",
    "# Run assertion Tests\n",
    "numpy.testing.assert_allclose(rational_pi(2),(44, 14))\n",
    "numpy.testing.assert_allclose(rational_pi(3),(355, 113))\n",
    "print('\\nsuccess!')\n"
   ]
  },
  {
   "cell_type": "markdown",
   "metadata": {
    "deletable": false,
    "editable": false,
    "nbgrader": {
     "cell_type": "markdown",
     "checksum": "cabe33a4165802a8de9d6c0d6b322917",
     "grade": false,
     "grade_id": "cell-23707a8e710ca676",
     "locked": true,
     "schema_version": 3,
     "solution": false,
     "task": false
    }
   },
   "source": [
    "**(d)** [6 pts] $F = n \\log(n) - n$ is Stirling's approximation to  $f = \\log(n!)$ for large values of $n$. \n",
    "Do the following\n",
    "\n",
    "* Make a plot showing the relative error and degree of decimal precision for $f$ and $F$ as a function of integer $n$\n",
    "\n",
    "* Estimate the smallest value of $n$ where Stirling's approximation is good to 4 decimal places of precision.  \n",
    "\n",
    "**Note**: If you use the `factorial` function imported from `scipy.special`, you will not be able to answer this question.  **Why?**  \n",
    "\n",
    "**Hint**: However there is another way to evaluate $\\log(n!)$ for integer $n$ that will work."
   ]
  },
  {
   "cell_type": "code",
   "execution_count": 97,
   "metadata": {
    "deletable": false,
    "nbgrader": {
     "cell_type": "code",
     "checksum": "6195fab472e4537966b7eba4a529a13b",
     "grade": true,
     "grade_id": "cell-a5639245c28a1642",
     "locked": false,
     "points": 4,
     "schema_version": 3,
     "solution": true,
     "task": false
    }
   },
   "outputs": [
    {
     "data": {
      "image/png": "[encoded data removed]",
      "text/plain": [
       "<Figure size 640x480 with 1 Axes>"
      ]
     },
     "metadata": {},
     "output_type": "display_data"
    }
   ],
   "source": [
    "# YOUR CODE HERE\n",
    "import math\n",
    "import numpy as np\n",
    "\n",
    "def calculate_log_factorial(n):\n",
    "    if n == 0:\n",
    "        return 1\n",
    "    else:\n",
    "        return sum([np.log(i) for i in range(1, n + 1)])\n",
    "\n",
    "n_values = list(range(10, 1600))\n",
    "approx_values = np.array([j * np.log(j) - j for j in n_values])\n",
    "exact_values = np.array([calculate_log_factorial(i) for i in n_values])\n",
    "relative_error = np.abs(exact_values - approx_values) / np.abs(exact_values)\n",
    "\n",
    "plt.plot(n_values, relative_error, marker='o', markersize=2)\n",
    "plt.title(\"Relative Error for n\")\n",
    "plt.xlabel(\"n\")\n",
    "plt.ylabel(\"Relative Error\")\n",
    "plt.show()"
   ]
  },
  {
   "cell_type": "code",
   "execution_count": 98,
   "metadata": {},
   "outputs": [
    {
     "data": {
      "text/plain": [
       "Text(0, 0.5, 'Degree Precision')"
      ]
     },
     "execution_count": 98,
     "metadata": {},
     "output_type": "execute_result"
    },
    {
     "data": {
      "image/png": "[encoded data removed]",
      "text/plain": [
       "<Figure size 640x480 with 1 Axes>"
      ]
     },
     "metadata": {},
     "output_type": "display_data"
    }
   ],
   "source": [
    "decimal_p = numpy.floor(-numpy.log10(relative_error/5))\n",
    "x=n_values\n",
    "plt.plot(x,decimal_p)\n",
    "plt.grid(10)\n",
    "plt.title(\"Degree Decimal Precision for n\")\n",
    "plt.xlabel(\"n\")\n",
    "plt.ylabel(\"Degree Precision\")"
   ]
  },
  {
   "cell_type": "markdown",
   "metadata": {
    "deletable": false,
    "nbgrader": {
     "cell_type": "markdown",
     "checksum": "c6321f16c18ce03a19fd25289b7d8ab4",
     "grade": true,
     "grade_id": "cell-dcc45d9028355b73",
     "locked": false,
     "points": 2,
     "schema_version": 3,
     "solution": true,
     "task": false
    }
   },
   "source": [
    "The smallest value of n to make 4 decimal place is around 1450."
   ]
  },
  {
   "cell_type": "markdown",
   "metadata": {
    "deletable": false,
    "editable": false,
    "nbgrader": {
     "cell_type": "markdown",
     "checksum": "27bfc8b15912bb6e1cdfa2dfd103ced4",
     "grade": false,
     "grade_id": "cell-6968179660613369",
     "locked": true,
     "schema_version": 3,
     "solution": false
    }
   },
   "source": [
    "## Question 2\n",
    "\n",
    "[4 pts] Given the Taylor polynomial expansions of two functions around $x=0$\n",
    "\n",
    "$$\\frac{1}{1-\\Delta x} = 1 + \\Delta x + \\Delta x^2 + \\Delta x^3 + O(\\Delta x^4)$$\n",
    "\n",
    "and\n",
    "\n",
    "$$\\cosh \\Delta x = 1 + \\frac{\\Delta x^2}{2!} + \\frac{\\Delta x^4}{4!} + O(\\Delta x^6)$$\n",
    "\n",
    "calculate their sum and product as well as the order of approximation for the truncation error (i.e. determine the exponent that belongs in the $O$).\n"
   ]
  },
  {
   "cell_type": "markdown",
   "metadata": {
    "deletable": false,
    "nbgrader": {
     "cell_type": "markdown",
     "checksum": "77d458abae3cfa5157eca11bd346e444",
     "grade": true,
     "grade_id": "cell-8500724062567566",
     "locked": false,
     "points": 4,
     "schema_version": 3,
     "solution": true
    }
   },
   "source": [
    "### Sum of the Taylor Series:\r\n",
    "\r\n",
    "We are given:\r\n",
    "\r\n",
    "$$\r\n",
    "\\frac{1}{1-\\Delta x} + \\cosh(\\Delta x) = (1+\\Delta x + \\Delta x^2 + \\Delta x^3 + O(\\Delta x^4)) + \\left(1+\\frac{\\Delta x^2}{2!}+\\frac{\\Delta x^4}{4!} + O(\\Delta x^6)\\right)\r\n",
    "$$\r\n",
    "\r\n",
    "We have:\r\n",
    "\r\n",
    "$$\r\n",
    "\\frac{1}{1-\\Delta x} + \\cosh(\\Delta x) = 2 + \\Delta x + \\Delta x^2 \\left( 1 + \\frac{1}{2!} \\right) + \\Delta x^3 + \\frac{\\Delta x^4}{4!} + O(\\Delta x^4)\r\n",
    "$$\r\n",
    "\r\n",
    "Simplifying:\r\n",
    "\r\n",
    "$$\r\n",
    "\\frac{1}{1-\\Delta x} + \\cosh(\\Delta x) = 2 + \\Delta x + \\frac{3 \\Delta x^2}{2} + \\Delta x^3 + O(\\Delta x^4)\r\n",
    "$$\r\n",
    "\r\n",
    "Thus, the sum is:\r\n",
    "\r\n",
    "$$\r\n",
    "\\boxed{2 + \\Delta x + \\frac{3 \\Delta x^2}{2} + \\Delta x^3 + O(\\Delta x^4)}\r\n",
    "$$\r\n",
    "\r\n",
    "### Product of the Taylor Series:\r\n",
    "\r\n",
    "We compute the product:\r\n",
    "\r\n",
    "$$\r\n",
    "\\left(\\frac{1}{1-\\Delta x}\\right)\\left(\\cosh(\\Delta x)\\right) = \\left(1 + \\Delta x + \\Delta x^2 + \\Delta x^3 + O(\\Delta x^4)\\right) \\cdot \\left(1 + \\frac{\\Delta x^2}{2!} + \\frac{\\Delta x^4}{4!} + O(\\Delta x^6)\\right)\r\n",
    "$$\r\n",
    "\r\n",
    "Multiplying the terms up to order \\( O(\\Delta x^4) \\):\r\n",
    "\r\n",
    "$$\r\n",
    "\\left(\\frac{1}{1-\\Delta x}\\right)\\left(\\cosh(\\Delta x)\\right) = 1 + \\Delta x + \\frac{3 \\Delta x^2}{2} + \\frac{3 \\Delta x^3}{2} + O(\\Delta x^4)\r\n",
    "$$\r\n",
    "\r\n",
    "Thus, the product is:\r\n",
    "\r\n",
    "$$\r\n",
    "\\boxed{1 + \\Delta x + \\frac{3 \\Delta x^2}{2} + \\frac{3 \\Delta x^3}{2} + O(\\Delta x^4)}\r\n",
    "$$\r\n",
    "\\frac{3 \\Delta x^3}{2} + O(\\Delta x^4)}\r\n",
    "$$\r\n"
   ]
  },
  {
   "cell_type": "markdown",
   "metadata": {
    "deletable": false,
    "editable": false,
    "nbgrader": {
     "cell_type": "markdown",
     "checksum": "237fcd7151c710b1c2fe86744794671b",
     "grade": false,
     "grade_id": "cell-5632471080286207",
     "locked": true,
     "schema_version": 3,
     "solution": false
    }
   },
   "source": [
    "## Question 3:  The great Exp challenge...\n",
    "\n",
    "Here you will attempt to write a function to calculate $e^x$ using its Taylor polynomial approximation expanded around $x_0=0$\n",
    "\n",
    "$$e^x \\approx T_n(x) = 1 + x + \\frac{x^2}{2!} + \\frac{x^3}{3!} + \\cdots + \\frac{x^n}{n!}$$\n",
    "\n",
    "such that the relative error of $f=e^x$ and $F=T_n(x)$ is of order Machine epsilon ($\\epsilon_{machine}$) for  $x\\in[-50,50]$.  This problem is actually a bit of a stinker and takes a bit of thought (particularly for $x<0$).  But I'll work you through it."
   ]
  },
  {
   "cell_type": "markdown",
   "metadata": {
    "deletable": false,
    "editable": false,
    "nbgrader": {
     "cell_type": "markdown",
     "checksum": "d16eac32cec2913a95095d153a7994b7",
     "grade": false,
     "grade_id": "cell-8186992197557199",
     "locked": true,
     "schema_version": 3,
     "solution": false
    }
   },
   "source": [
    "**(a)** [4 pts] Assume $x> 0$ and show that the upper bound on the *relative error*  at term $n$ \n",
    "\n",
    "$$r_n = \\frac{|e^x - T_n(x)|}{|e^x|}$$\n",
    "\n",
    "is given by\n",
    "\n",
    "$$r_n \\leq \\left | \\frac{x^{n+1}}{(n + 1)!} \\right |$$"
   ]
  },
  {
   "cell_type": "markdown",
   "metadata": {
    "deletable": false,
    "nbgrader": {
     "cell_type": "markdown",
     "checksum": "c066945aa96e6e08fcb676cf3b3e08f3",
     "grade": true,
     "grade_id": "cell-2747685663052674",
     "locked": false,
     "points": 4,
     "schema_version": 3,
     "solution": true
    }
   },
   "source": [
    "### Error Analysis for the Taylor Series of \\( e^x \\)\r\n",
    "\r\n",
    "We have that \\( e^x = T_n(x) = R_n(x) \\), where \\( R_n(x) \\) is the remainder term defined as:\r\n",
    "\r\n",
    "$$\r\n",
    "R_n = \\frac{f^{n+1}(c)(x-x_{0})^{n+1}}{(n+1)!}\r\n",
    "$$\r\n",
    "\r\n",
    "In this case, we can express the relative error \\( r_n \\) as:\r\n",
    "\r\n",
    "$$\r\n",
    "r_n = \\frac{|e^x - T_n(x)|}{|e^x|} = \\frac{|R_n(x)|}{|e^x|}\r\n",
    "$$\r\n",
    "\r\n",
    "Substituting \\( x_0 = 0 \\), we have:\r\n",
    "\r\n",
    "$$\r\n",
    "r_n = \\frac{f^{n+1}(c)(x-x_{0})^{n+1}}{(n+1)!|e^x|} = \\frac{e^c x^{n+1}}{(n+1)! |e^x|} \\leq \\frac{x^{n+1}}{(n+1)!}\r\n",
    "$$\r\n",
    "\r\n",
    "Thus, the final result can be boxed as follows:\r\n",
    "\r\n",
    "$$\r\n",
    "\\boxed{r_n \\leq \\frac{x^{n+1}}{(n+1)!}}\r\n",
    "$$\r\n",
    "+1}}{(n+1)!}\r\n",
    "$$"
   ]
  },
  {
   "cell_type": "markdown",
   "metadata": {
    "deletable": false,
    "editable": false,
    "nbgrader": {
     "cell_type": "markdown",
     "checksum": "9a252bb988e5ae52a24a2e87dfe820b2",
     "grade": false,
     "grade_id": "cell-4678254376542691",
     "locked": true,
     "schema_version": 3,
     "solution": false
    }
   },
   "source": [
    "**(b)** [4 pts] Analytically show that for **large** $x\\gg1$ and $n$, $r_n \\leq \\epsilon_{\\text{machine}}$ implies that we need *approximately* $n > e \\cdot x$ terms in the series (where $e = \\text{exp}(1)$).\n",
    "\n",
    "*Hint* Use Stirling's approximation $log (n!) \\approx n~log~n - n$ (and then this problem is still a bit tricky)"
   ]
  },
  {
   "cell_type": "markdown",
   "metadata": {
    "deletable": false,
    "nbgrader": {
     "cell_type": "markdown",
     "checksum": "8152aede9f1e1f429a231ee2b82df69c",
     "grade": true,
     "grade_id": "cell-4305745011657702",
     "locked": false,
     "points": 4,
     "schema_version": 3,
     "solution": true
    }
   },
   "source": [
    "### Proving the Condition for Machine Epsilon\r\n",
    "\r\n",
    "We need to demonstrate that:\r\n",
    "\r\n",
    "$$\r\n",
    "\\frac{x^{n+1}}{(n+1)!} \\leq \\epsilon_{\\text{machine}}\r\n",
    "$$\r\n",
    "\r\n",
    "This leads us to the inequality:\r\n",
    "\r\n",
    "$$\r\n",
    "x^{n+1} < (n+1)!\r\n",
    "$$\r\n",
    "\r\n",
    "Taking the logarithm of both sides, we get:\r\n",
    "\r\n",
    "$$\r\n",
    "(n+1) \\log(x) < (n+1) \\log(n+1) - (n+1)\r\n",
    "$$\r\n",
    "\r\n",
    "Rearranging this gives us:\r\n",
    "\r\n",
    "$$\r\n",
    "\\log(x) < \\log(n+1) - 1 \r\n",
    "$$\r\n",
    "\r\n",
    "Which can be expressed as:\r\n",
    "\r\n",
    "$$\r\n",
    "\\log(x) + 1 < \\log(n+1) \r\n",
    "$$\r\n",
    "\r\n",
    "Or equivalently:\r\n",
    "\r\n",
    "$$\r\n",
    "\\log(x) + \\log(e) <log+1)\r\n",
    "$$\r\n",
    "\r\n",
    "For large values of \\( n \\), we can approximate \\( \\log(n+1) \\) as \\( \\log(n) \\):\r\n",
    "\r\n",
    "$$\r\n",
    "\\log(x) + \\log(e) < \\log(n)\r\n",
    "$$\r\n",
    "\r\n",
    "This simplifies to:\r\n",
    "\r\n",
    "$$\r\n",
    "\\log(e \\cdot x) < \\log(n)\r\n",
    "$$\r\n",
    "\r\n",
    "Therefore, we conclude that:\r\n",
    "\r\n",
    "$$\r\n",
    "n > e \\cdot x\r\n",
    "$$\r\n",
    "\r\n",
    "Thus, we have shown the required condition, boxed as follows:\r\n",
    "\r\n",
    "$$\r\n",
    "\\boxed{n > e \\cdot x}\r\n",
    "$$\r\n",
    " are done.f $n$, $log(n+1) = log(n)$:"
   ]
  },
  {
   "cell_type": "markdown",
   "metadata": {
    "deletable": false,
    "editable": false,
    "nbgrader": {
     "cell_type": "markdown",
     "checksum": "a9cef1843dc0ae1deb7e6dbe5f77c33c",
     "grade": false,
     "grade_id": "cell-8048500717179941",
     "locked": true,
     "schema_version": 3,
     "solution": false
    }
   },
   "source": [
    "**(c)** [6 pts] Use this result to write a Python function that accurately approximates $e^x$ using $T_n(x)$ for scalar $x$ and returns both the estimate and the number of terms in the series.  Note that the testing tolerance will be $8 \\cdot \\epsilon_{\\text{machine}}$ over the range $x\\in[-50,50]$\n",
    "\n",
    "Make sure to document your code including expected inputs, outputs, and assumptions being made.\n",
    "\n",
    "Some Hints:\n",
    "* To make your life easier,  we will assume $x$ and $T_n(x)$ are just of type float (not arrays)\n",
    "* Think about how we evaluated polynomials efficiently in class\n",
    "* $T_n(x)$ for $x<0$ is a highly unstable alternating series with severe cancellation issues. However, there is a simple fix that will return accurate solutions independent of the sign of $x$"
   ]
  },
  {
   "cell_type": "code",
   "execution_count": 108,
   "metadata": {
    "deletable": false,
    "nbgrader": {
     "cell_type": "code",
     "checksum": "80286c759520479af4ce906ac70f62e5",
     "grade": false,
     "grade_id": "cell-5914967225034965",
     "locked": false,
     "schema_version": 3,
     "solution": true,
     "task": false
    }
   },
   "outputs": [],
   "source": [
    "def Tn_exp(x):\n",
    "    \"\"\" Write a decent description here\n",
    "    \n",
    "    Parameters:\n",
    "    -----------\n",
    "        x: float\n",
    "            scalar value to approximate exp(x)\n",
    "    \"\"\"\n",
    "\n",
    "    #assert(isinstance(x,float))\n",
    "    # rough estimate of maximum number of steps for large x\n",
    "    # MAX_N = ??\n",
    "    \n",
    "    # YOUR CODE HERE\n",
    "    value=x\n",
    "    assert isinstance(value, float)\n",
    "\n",
    "    inverse_flag = False\n",
    "    if value < 0:\n",
    "        value = abs(value)\n",
    "        inverse_flag = True\n",
    "    \n",
    "    MAX_TERMS = int(numpy.ceil(3 * value)) + 50\n",
    "    \n",
    "    coefficients = []\n",
    "    for term in range(MAX_TERMS + 1):\n",
    "        coefficients.append(1 / factorial(term))    \n",
    "    coefficients.reverse()\n",
    "    \n",
    "    Taylor_approximation = coefficients[0]\n",
    "    for coefficient in coefficients[1:]:\n",
    "        Taylor_approximation = Taylor_approximation * value + coefficient\n",
    "    \n",
    "    if inverse_flag:\n",
    "        Taylor_approximation = 1 / Taylor_approximation\n",
    "    \n",
    "    return Taylor_approximation, MAX_TERMS\n",
    "\n"
   ]
  },
  {
   "cell_type": "code",
   "execution_count": 109,
   "metadata": {},
   "outputs": [],
   "source": [
    "# Feel free to test your code here and/or make a plot of errors"
   ]
  },
  {
   "cell_type": "code",
   "execution_count": 110,
   "metadata": {
    "deletable": false,
    "editable": false,
    "nbgrader": {
     "cell_type": "code",
     "checksum": "ab0f32ce185cc2c7955fb0d04d65f027",
     "grade": true,
     "grade_id": "cell-9688375319882602",
     "locked": true,
     "points": 6,
     "schema_version": 3,
     "solution": false
    }
   },
   "outputs": [
    {
     "name": "stdout",
     "output_type": "stream",
     "text": [
      "maxmimum relative error = 4.252190255480811 eps_machine\n",
      "Success!\n"
     ]
    }
   ],
   "source": [
    "# Testing Cell (do not copy)\n",
    "\n",
    "x = numpy.linspace(-50, 50, 101)\n",
    "eps = numpy.finfo(float).eps\n",
    "tolerance = 8 * eps\n",
    "\n",
    "answer = numpy.zeros(x.shape)\n",
    "N = numpy.zeros(x.shape)\n",
    "for i,xi in enumerate(x):\n",
    "    answer[i], N[i] = Tn_exp(xi)\n",
    "r = numpy.abs(answer - numpy.exp(x)) / numpy.abs(numpy.exp(x))\n",
    "print('maxmimum relative error = {} eps_machine'.format(r.max()/eps))\n",
    "assert(numpy.all(r  < tolerance))\n",
    "print(\"Success!\")"
   ]
  },
  {
   "cell_type": "markdown",
   "metadata": {
    "deletable": false,
    "editable": false,
    "nbgrader": {
     "cell_type": "markdown",
     "checksum": "2b1d4a353e51fbba1658f5a6968d1b42",
     "grade": false,
     "grade_id": "cell-c154452f653c5adc",
     "locked": true,
     "schema_version": 3,
     "solution": false,
     "task": false
    }
   },
   "source": [
    "**(d)** [4 pts] In ieee double precision,  the largest value of $x$ that has $e^x<$ `numpy.finfo(float).max` is about 709 (i.e. `numpy.log(numpy.finfo(float).max))`. \n",
    "\n",
    "* What is the relative error in units of machine epsilon for your routine and `f=numpy.exp(709)`\n",
    "* What is the relative error in units of machine epsilon for `F=numpy.exp(1)**709` and `f=numpy.exp(709)`\n",
    "\n",
    "Explain your results"
   ]
  },
  {
   "cell_type": "code",
   "execution_count": 112,
   "metadata": {},
   "outputs": [
    {
     "name": "stdout",
     "output_type": "stream",
     "text": [
      "Relative Error is: 4503599627370496.0 machine epsilons.\n",
      "Relative Error is: 170.0702257577037 machine epsilons.\n"
     ]
    }
   ],
   "source": [
    "numpy_exp_709 = numpy.exp(709)\n",
    "approximation_709 = Tn_exp(709.)[0]\n",
    "\n",
    "relative_error = abs(numpy_exp_709 - approximation_709) / abs(numpy_exp_709)\n",
    "print(\"Relative Error is:\", relative_error / eps, \"machine epsilons.\")\n",
    "\n",
    "numpy_exp_709 = numpy.exp(709)\n",
    "numpy_exp_1_709 = numpy.exp(1) ** 709\n",
    "\n",
    "relative_error2 = abs(numpy_exp_709 - numpy_exp_1_709) / abs(numpy_exp_709)\n",
    "print(\"Relative Error is:\", relative_error2 / eps, \"machine epsilons.\")\n"
   ]
  },
  {
   "cell_type": "markdown",
   "metadata": {
    "deletable": false,
    "nbgrader": {
     "cell_type": "markdown",
     "checksum": "a5a47ab9f08e7fe4764609703387ef9d",
     "grade": true,
     "grade_id": "cell-26e754d164cf2a3a",
     "locked": false,
     "points": 4,
     "schema_version": 3,
     "solution": true,
     "task": false
    }
   },
   "source": [
    "## Answer\r\n",
    "\r\n",
    "The relative error between $$ f = \\text{numpy.exp}(709) $$ and my routine is:\r\n",
    "\r\n",
    "**Relative Error:** $$ 4503599627370496.0 $$ machine epsilon. \r\n",
    "\r\n",
    "For the comparison between $$ f = \\text{numpy.exp}(709) $$ and $$ F = \\left( \\text{numpy.exp}(1) \\right)^{709} $$:\r\n",
    "\r\n",
    "**Relative Error:** $$ 170.0702257577037 $$ machine epsilon.\r\n",
    "silon.\r\n",
    "psilons.\r\n"
   ]
  },
  {
   "cell_type": "markdown",
   "metadata": {
    "deletable": false,
    "editable": false,
    "nbgrader": {
     "cell_type": "markdown",
     "checksum": "7acaa725abfd22229bddd35f652e4b57",
     "grade": false,
     "grade_id": "cell-aaa3ac7c64bd5868",
     "locked": true,
     "schema_version": 3,
     "solution": false,
     "task": false
    }
   },
   "source": [
    "**(e)** **Extra Credit**\n",
    "\n",
    "[4 pts] Can you modify your routine for `Tn_exp(x)`) to approximate $e^x$ on the range $x\\in[-709, 709]$ to within 16 $\\epsilon_{machine}$?\n"
   ]
  },
  {
   "cell_type": "code",
   "execution_count": 115,
   "metadata": {
    "deletable": false,
    "nbgrader": {
     "cell_type": "code",
     "checksum": "9c184e65af5b8e5f46c673245638f9ef",
     "grade": false,
     "grade_id": "cell-28a21d2a7d0bda99",
     "locked": false,
     "schema_version": 3,
     "solution": true,
     "task": false
    }
   },
   "outputs": [
    {
     "ename": "NotImplementedError",
     "evalue": "",
     "output_type": "error",
     "traceback": [
      "\u001b[1;31m---------------------------------------------------------------------------\u001b[0m",
      "\u001b[1;31mNotImplementedError\u001b[0m                       Traceback (most recent call last)",
      "Cell \u001b[1;32mIn[115], line 1\u001b[0m\n\u001b[1;32m----> 1\u001b[0m \u001b[38;5;28;01mraise\u001b[39;00m \u001b[38;5;167;01mNotImplementedError\u001b[39;00m()\n",
      "\u001b[1;31mNotImplementedError\u001b[0m: "
     ]
    }
   ],
   "source": [
    "raise NotImplementedError()"
   ]
  },
  {
   "cell_type": "code",
   "execution_count": null,
   "metadata": {
    "deletable": false,
    "editable": false,
    "nbgrader": {
     "cell_type": "code",
     "checksum": "47c964bd17be30e90d2a8b03d580466c",
     "grade": true,
     "grade_id": "cell-96883753198883843",
     "locked": true,
     "points": 0,
     "schema_version": 3,
     "solution": false
    }
   },
   "outputs": [],
   "source": [
    "x = numpy.linspace(-709, 709, 101)\n",
    "tolerance = 16 * eps\n",
    "\n",
    "answer = numpy.zeros(x.shape)\n",
    "N = numpy.zeros(x.shape)\n",
    "for i,xi in enumerate(x):\n",
    "    answer[i], N[i] = Tn_exp(xi, tolerance=tolerance)\n",
    "r = numpy.abs(answer - numpy.exp(x)) / numpy.abs(numpy.exp(x))\n",
    "print('maxmimum relative error = {} eps_machine'.format(r.max()/eps))\n",
    "assert(numpy.all(r  < tolerance))\n",
    "print(\"Success!\")"
   ]
  },
  {
   "cell_type": "markdown",
   "metadata": {
    "deletable": false,
    "editable": false,
    "nbgrader": {
     "cell_type": "markdown",
     "checksum": "0ea70a0549b8738a4ff278bbe58f20df",
     "grade": false,
     "grade_id": "cell-6605000347660435",
     "locked": true,
     "schema_version": 3,
     "solution": false
    }
   },
   "source": [
    "## Question 4\n",
    "\n",
    "Consider a computing system that uses deoxyribonucleic acid (DNA) to store information.  Given that DNA is formed from the 4 nucleobases adenine, cytosine, guanine, and thymine (uracil is only found in RNA) let us assume that our storage of numbers will be base 4.  Answer the following questions based on this assuming that we have $p=3$ for the mantissa and the exponent $E \\in [-3, 3]$ (and we'll pretend DNA has a sign bit...chirality?)."
   ]
  },
  {
   "cell_type": "markdown",
   "metadata": {
    "deletable": false,
    "editable": false,
    "nbgrader": {
     "cell_type": "markdown",
     "checksum": "c13ca513b18f26ed2af616dd50206047",
     "grade": false,
     "grade_id": "cell-9339658002746268",
     "locked": true,
     "schema_version": 3,
     "solution": false
    }
   },
   "source": [
    "**(a)** [4 pts] How many numbers can we represent with this floating point system (assume it's normalized)?  What are the underflow and overflow limits? What is machine Epsilon?"
   ]
  },
  {
   "cell_type": "markdown",
   "metadata": {
    "deletable": false,
    "nbgrader": {
     "cell_type": "markdown",
     "checksum": "b0255974fb370e1c331638d41f074ddf",
     "grade": true,
     "grade_id": "cell-623b625975f5da41",
     "locked": false,
     "points": 4,
     "schema_version": 3,
     "solution": true
    }
   },
   "source": [
    "## Numbers We Can Represent\r\n",
    "\r\n",
    "Given the following values:\r\n",
    "\r\n",
    "- \\( d_1 = 3 \\)\r\n",
    "- \\( d_2 = 4 \\)\r\n",
    "- \\( d_3 = 4 \\)\r\n",
    "- \\( E = 7 \\)\r\n",
    "\r\n",
    "We can calculate \\( f \\) as follows:\r\n",
    "\r\n",
    "$$\r\n",
    "f = \\pm d_1 \\cdot d_2 \\cdot d_3 \\times 4^E\r\n",
    "$$\r\n",
    "\r\n",
    "The total number of representable values is:\r\n",
    "\r\n",
    "$$\r\n",
    "\\text{total numbers} = 3 \\cdot 3 \\cdot 4 \\cdot 16384 + 1 = 673\r\n",
    "$$\r\n",
    "\r\n",
    "### Underflow and Overflow\r\n",
    "\r\n",
    "- **Underflow**: \r\n",
    "  $$\r\n",
    "  1.00 \\times 4^{-3} = 0.015625\r\n",
    "  $$\r\n",
    "\r\n",
    "- **Overflow**: \r\n",
    "  $$\r\n",
    "  3.33 \\times 4^3 = 252.0\r\n",
    "  $$\r\n",
    "\r\n",
    "### Machine Epsilon\r\n",
    "\r\n",
    "Machine epsilon is the smallest number such that:\r\n",
    "\r\n",
    "$$\r\n",
    "4^{-2} = 0.0625\r\n",
    "$$\r\n",
    "m: \\( 333 \\)\r\n",
    "- **Machine Epsilon**: (depending on the precision used)\r\n",
    "10^2= 333$"
   ]
  },
  {
   "cell_type": "markdown",
   "metadata": {
    "deletable": false,
    "editable": false,
    "nbgrader": {
     "cell_type": "markdown",
     "checksum": "29c7fc5ca0808f62a6b35897f3fbbe87",
     "grade": false,
     "grade_id": "cell-9339658dsfsdf46268",
     "locked": true,
     "schema_version": 3,
     "solution": false
    }
   },
   "source": [
    "**(b)** [4pts] Graphically show how the numbers on the decimal real line are distributed."
   ]
  },
  {
   "cell_type": "code",
   "execution_count": null,
   "metadata": {
    "deletable": false,
    "nbgrader": {
     "cell_type": "code",
     "checksum": "b95cccb5e3723bc4ebd7a1a10500f39a",
     "grade": true,
     "grade_id": "cell-4c6d3ae47566d1f1",
     "locked": false,
     "points": 4,
     "schema_version": 3,
     "solution": true
    }
   },
   "outputs": [],
   "source": [
    "d1_values = [1, 2, 3]\n",
    "d2_values = [0, 1, 2, 3]\n",
    "d3_values = [0, 1, 2, 3]\n",
    "E_values = [3, 2, 1, 0, -1, -2, -3]\n",
    "\n",
    "fig = plt.figure(figsize=(10.0, 1.0))\n",
    "axes = fig.add_subplot(1, 1, 1)\n",
    "\n",
    "for exponent in E_values:\n",
    "    for d1 in d1_values:\n",
    "        for d2 in d2_values:\n",
    "            for d3 in d3_values:\n",
    "                axes.plot((d1 + d2 + d3 * 0.25) * 4**exponent, 0.0, 'r+', markersize=20)\n",
    "                axes.plot(-(d1 + d2 + d3 * 0.25) * 4**exponent, 0.0, 'r+', markersize=20)\n",
    "\n",
    "axes.plot(0.0, 0.0, 'r+', markersize=20)\n",
    "\n",
    "axes.plot([-150, 150], [0.0, 0.0], 'k')\n",
    "\n",
    "axes.set_title(\"Distribution of Values\")\n",
    "axes.set_yticks([])\n",
    "axes.set_xlabel(\"x\")\n",
    "axes.set_ylabel(\"\")\n",
    "axes.set_xlim([-150, 150])\n",
    "\n",
    "plt.show()\n"
   ]
  },
  {
   "cell_type": "markdown",
   "metadata": {
    "deletable": false,
    "editable": false,
    "nbgrader": {
     "cell_type": "markdown",
     "checksum": "fab0fc5f3065c300023b60719c30cb3b",
     "grade": false,
     "grade_id": "cell-93396552502746268",
     "locked": true,
     "schema_version": 3,
     "solution": false
    }
   },
   "source": [
    "**(c)** [4 pts] How many more numbers can we store in $N$ base-pairs (base 4) versus $N$ bits (base 2) where the mantissa and exponent are the same relative length (e.g.  p=3, and $E\\in[-3,3]$ for both problems)?"
   ]
  },
  {
   "cell_type": "markdown",
   "metadata": {
    "deletable": false,
    "nbgrader": {
     "cell_type": "markdown",
     "checksum": "16825fa4b75b7fc34d854b1653fe64b8",
     "grade": true,
     "grade_id": "cell-6de5d8dbf91c5ff7",
     "locked": false,
     "points": 4,
     "schema_version": 3,
     "solution": true
    }
   },
   "source": [
    "We saw that in base 4, our number of representations with \\( p=3 \\) and \\( E \\in [-3,3] \\) is: \r\n",
    "\r\n",
    "$$\r\n",
    "673\r\n",
    "$$\r\n",
    "\r\n",
    "For base 2:\r\n",
    "\r\n",
    "$$\r\n",
    "2 \\times 1 \\times 2 \\times 2 \\times 7 + 1 = 57\r\n",
    "$$ \r\n",
    "\r\n",
    "This means we can store \r\n",
    "\r\n",
    "$$\r\n",
    "673 - 57 = \\boxed{616}\r\n",
    "$$ \r\n",
    "\r\n",
    "more numbers for base 4.\r\n",
    "re numbers."
   ]
  },
  {
   "cell_type": "code",
   "execution_count": null,
   "metadata": {},
   "outputs": [],
   "source": []
  }
 ],
 "metadata": {
  "kernelspec": {
   "display_name": "Python 3 (ipykernel)",
   "language": "python",
   "name": "python3"
  },
  "language_info": {
   "codemirror_mode": {
    "name": "ipython",
    "version": 3
   },
   "file_extension": ".py",
   "mimetype": "text/x-python",
   "name": "python",
   "nbconvert_exporter": "python",
   "pygments_lexer": "ipython3",
   "version": "3.12.4"
  },
  "latex_envs": {
   "bibliofile": "biblio.bib",
   "cite_by": "apalike",
   "current_citInitial": 1,
   "eqLabelWithNumbers": true,
   "eqNumInitial": 0
  }
 },
 "nbformat": 4,
 "nbformat_minor": 4
}
